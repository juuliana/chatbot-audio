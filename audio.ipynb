{
  "nbformat": 4,
  "nbformat_minor": 0,
  "metadata": {
    "colab": {
      "provenance": [],
      "authorship_tag": "ABX9TyN8Bp755skxsjKSY8eMcXFA",
      "include_colab_link": true
    },
    "kernelspec": {
      "name": "python3",
      "display_name": "Python 3"
    },
    "language_info": {
      "name": "python"
    }
  },
  "cells": [
    {
      "cell_type": "markdown",
      "metadata": {
        "id": "view-in-github",
        "colab_type": "text"
      },
      "source": [
        "<a href=\"https://colab.research.google.com/github/juuliana/chatbot-audio/blob/main/audio.ipynb\" target=\"_parent\"><img src=\"https://colab.research.google.com/assets/colab-badge.svg\" alt=\"Open In Colab\"/></a>"
      ]
    },
    {
      "cell_type": "markdown",
      "source": [
        "**Instalando e configurando a chave**"
      ],
      "metadata": {
        "id": "-UddMbbFQPSR"
      }
    },
    {
      "cell_type": "code",
      "execution_count": 1,
      "metadata": {
        "id": "7OZ83zyDLU5v"
      },
      "outputs": [],
      "source": [
        "!pip install -q -U google-generativeai\n",
        "!pip install -q -U gtts"
      ]
    },
    {
      "cell_type": "code",
      "source": [
        "from gtts import gTTS\n",
        "import google.generativeai as genai\n",
        "from google.colab import userdata\n",
        "\n",
        "#Substitua a SECRET_KEY pela sua chave do Google AI Studio\n",
        "SECRET_KEY = userdata.get('SECRET_KEY')\n",
        "genai.configure(api_key=SECRET_KEY)"
      ],
      "metadata": {
        "id": "PWGjlqVNLWZr"
      },
      "execution_count": 47,
      "outputs": []
    },
    {
      "cell_type": "markdown",
      "source": [
        "**Configurando o modelo**"
      ],
      "metadata": {
        "id": "5zw3F9eAQTnu"
      }
    },
    {
      "cell_type": "code",
      "source": [
        "generation_config = {\n",
        "    \"candidate_count\": 1,\n",
        "    \"temperature\": 1,\n",
        "}\n",
        "\n",
        "model = genai.GenerativeModel(model_name='gemini-1.0-pro', generation_config=generation_config)"
      ],
      "metadata": {
        "id": "CevR2-I6LYeO"
      },
      "execution_count": 32,
      "outputs": []
    },
    {
      "cell_type": "markdown",
      "source": [
        "**Definindo o chat e o idioma, configure se necessário**"
      ],
      "metadata": {
        "id": "8AhOYNBoQXdW"
      }
    },
    {
      "cell_type": "code",
      "source": [
        "chat = model.start_chat(history=[])\n",
        "lang = 'pt'"
      ],
      "metadata": {
        "id": "YDHk5melLbSr"
      },
      "execution_count": 43,
      "outputs": []
    },
    {
      "cell_type": "markdown",
      "source": [
        "**Função para converter o texto em áudio**"
      ],
      "metadata": {
        "id": "ssnccSt7Qnjx"
      }
    },
    {
      "cell_type": "code",
      "source": [
        "def convert(text):\n",
        "  audio = gTTS(text, lang=lang)\n",
        "  audio.save(\"audio.mp3\")"
      ],
      "metadata": {
        "id": "9s421C1ELbrR"
      },
      "execution_count": 44,
      "outputs": []
    },
    {
      "cell_type": "markdown",
      "source": [
        "**Função para formatar o texto recebido**"
      ],
      "metadata": {
        "id": "JHv_tUuUQsp2"
      }
    },
    {
      "cell_type": "code",
      "source": [
        "def formatText(text):\n",
        "  text = text.replace('*', ' ')\n",
        "  text = text.replace('>', ' ')\n",
        "  return text"
      ],
      "metadata": {
        "id": "5mNMtEoUOQA8"
      },
      "execution_count": 45,
      "outputs": []
    },
    {
      "cell_type": "markdown",
      "source": [
        "# 1 - Chatbot responsável por receber textos e transformar em áudio"
      ],
      "metadata": {
        "id": "rroIXWHrQwar"
      }
    },
    {
      "cell_type": "code",
      "source": [
        "prompt = input(\"Digite um texto para que ele seja transformado em áudio:\")\n",
        "\n",
        "while prompt != \"finalizar\":\n",
        "  convert(prompt)\n",
        "  prompt = input(\"Áudio criado com sucesso! Digite um novo texto para que ele seja transformado em áudio ou digite 'finalizar' para concluirmos a conversa:\")"
      ],
      "metadata": {
        "id": "zmN1ghsmM50H"
      },
      "execution_count": null,
      "outputs": []
    },
    {
      "cell_type": "markdown",
      "source": [
        "# 2 - Chatbot responsável por receber uma pergunta em forma de texto e responder em áudio"
      ],
      "metadata": {
        "id": "bRQ78BfYQ7GY"
      }
    },
    {
      "cell_type": "code",
      "source": [
        "prompt = input(\"Faça uma pergunta para que o chatbot te responda em áudio:\")\n",
        "\n",
        "while prompt != \"finalizar\":\n",
        "  response = chat.send_message(prompt)\n",
        "  text = formatText(response.text)\n",
        "  convert(text)\n",
        "  prompt = input(\"Áudio criado com sucesso! Faça uma nova pergunta para que o chatbot te responda em áudio ou digite 'finalizar' para concluirmos a conversa:\")"
      ],
      "metadata": {
        "id": "egdcG5uOLfyX"
      },
      "execution_count": null,
      "outputs": []
    }
  ]
}